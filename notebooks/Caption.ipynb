{
 "cells": [
  {
   "cell_type": "markdown",
   "metadata": {},
   "source": [
    "# Setup"
   ]
  },
  {
   "cell_type": "markdown",
   "metadata": {},
   "source": [
    "## Imports"
   ]
  },
  {
   "cell_type": "code",
   "execution_count": 1,
   "metadata": {},
   "outputs": [
    {
     "name": "stdout",
     "output_type": "stream",
     "text": [
      "Accelerating your code on shiney new Tesla P100-PCIE-16GB GPU.\n"
     ]
    }
   ],
   "source": [
    "import magnet as mag"
   ]
  },
  {
   "cell_type": "code",
   "execution_count": 2,
   "metadata": {},
   "outputs": [],
   "source": [
    "import torch"
   ]
  },
  {
   "cell_type": "code",
   "execution_count": 3,
   "metadata": {},
   "outputs": [],
   "source": [
    "from captioner.eval import caption, pretty_print\n",
    "from captioner.extract import Extractor\n",
    "from captioner.hparams import (image_shape, architecture, hidden_size, num_layers,\n",
    "                               rnn_type, vocab_size, beam_size, image_shape, probabilistic)\n",
    "from captioner.model import Model\n",
    "from captioner.nlp import get_nlp"
   ]
  },
  {
   "cell_type": "code",
   "execution_count": 4,
   "metadata": {},
   "outputs": [],
   "source": [
    "from PIL import Image"
   ]
  },
  {
   "cell_type": "markdown",
   "metadata": {},
   "source": [
    "## Preparations"
   ]
  },
  {
   "cell_type": "code",
   "execution_count": 5,
   "metadata": {},
   "outputs": [],
   "source": [
    "DIR_DATA /= 'COCO'\n",
    "DIR_CHECKPOINTS = DIR_MAIN / 'checkpoints'\n",
    "\n",
    "filenames = list(DIR_DATA.glob('val/*.jpg'))"
   ]
  },
  {
   "cell_type": "markdown",
   "metadata": {},
   "source": [
    "Load the spaCy model"
   ]
  },
  {
   "cell_type": "code",
   "execution_count": 6,
   "metadata": {},
   "outputs": [],
   "source": [
    "nlp = get_nlp('en_core_web_lg', vocab_size, DIR_CHECKPOINTS / 'vocab')\n",
    "\n",
    "embedding_dim = nlp.vocab.vectors.shape[1]"
   ]
  },
  {
   "cell_type": "markdown",
   "metadata": {},
   "source": [
    "Get the extractor and it's feature size"
   ]
  },
  {
   "cell_type": "code",
   "execution_count": 7,
   "metadata": {},
   "outputs": [],
   "source": [
    "extractor = Extractor(architecture)\n",
    "feature_dim = extractor.feature_size"
   ]
  },
  {
   "cell_type": "markdown",
   "metadata": {},
   "source": [
    "Load the model and the trained weights"
   ]
  },
  {
   "cell_type": "code",
   "execution_count": 8,
   "metadata": {},
   "outputs": [],
   "source": [
    "model = Model(feature_dim, embedding_dim, hidden_size,\n",
    "              num_layers, rnn_type, vocab_size)\n",
    "\n",
    "device = 'cuda:0' if mag.device == 'cuda' else mag.device\n",
    "model.load_state_dict(torch.load(DIR_CHECKPOINTS / 'model.pt', map_location=device))"
   ]
  },
  {
   "cell_type": "markdown",
   "metadata": {},
   "source": [
    "# Caption"
   ]
  },
  {
   "cell_type": "code",
   "execution_count": null,
   "metadata": {},
   "outputs": [],
   "source": [
    "img = Image.open(np.random.choice(filenames))\n",
    "pretty_print(caption(img, model, extractor, nlp, beam_size, probabilistic, image_shape))\n",
    "img"
   ]
  }
 ],
 "metadata": {
  "anaconda-cloud": {},
  "kernelspec": {
   "display_name": "Python [conda env:captioner]",
   "language": "python",
   "name": "conda-env-captioner-py"
  },
  "language_info": {
   "codemirror_mode": {
    "name": "ipython",
    "version": 3
   },
   "file_extension": ".py",
   "mimetype": "text/x-python",
   "name": "python",
   "nbconvert_exporter": "python",
   "pygments_lexer": "ipython3",
   "version": "3.6.5"
  }
 },
 "nbformat": 4,
 "nbformat_minor": 2
}
